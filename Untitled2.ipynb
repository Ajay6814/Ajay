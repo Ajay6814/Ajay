{
 "cells": [
  {
   "cell_type": "code",
   "execution_count": 9,
   "id": "b1d1b3fc-017b-4702-bdbb-892f6e03c968",
   "metadata": {},
   "outputs": [
    {
     "name": "stdin",
     "output_type": "stream",
     "text": [
      " 7\n"
     ]
    },
    {
     "name": "stdout",
     "output_type": "stream",
     "text": [
      "odd number\n"
     ]
    }
   ],
   "source": [
    "a=int(input())\n",
    "if a % 2==0:\n",
    "    print(\"even number\")\n",
    "else:\n",
    "    print(\"odd number\")"
   ]
  },
  {
   "cell_type": "code",
   "execution_count": 6,
   "id": "f21fc50f-586f-4106-a57b-9dfd7026a677",
   "metadata": {},
   "outputs": [
    {
     "name": "stdin",
     "output_type": "stream",
     "text": [
      "enter a number: 1234\n"
     ]
    },
    {
     "name": "stdout",
     "output_type": "stream",
     "text": [
      "sum of digits :  4\n",
      "sum of digits :  7\n",
      "sum of digits :  9\n",
      "sum of digits :  10\n"
     ]
    }
   ],
   "source": [
    "n=int(input(\"enter a number:\"))\n",
    "s=0\n",
    "while(n>0):\n",
    "    digit = n%10\n",
    "    s = s+digit\n",
    "    n = n//10\n",
    "    print(\"sum of digits : \",s)\n",
    "    \n",
    "    "
   ]
  },
  {
   "cell_type": "code",
   "execution_count": 24,
   "id": "83f78214-455b-4270-bf1d-69e0bfdccb28",
   "metadata": {},
   "outputs": [
    {
     "name": "stdin",
     "output_type": "stream",
     "text": [
      "enter a number: 1234\n"
     ]
    },
    {
     "name": "stdout",
     "output_type": "stream",
     "text": [
      "product of digits :  24\n"
     ]
    }
   ],
   "source": [
    "n=int(input(\"enter a number:\"))\n",
    "p=1\n",
    "while(n>0):\n",
    "    digit= n%10\n",
    "    p = p*digit\n",
    "    n = n//10\n",
    "print(\"product of digits : \",p)"
   ]
  },
  {
   "cell_type": "code",
   "execution_count": 40,
   "id": "db6267af-7834-4f3d-b036-98061b6fd86b",
   "metadata": {},
   "outputs": [
    {
     "name": "stdin",
     "output_type": "stream",
     "text": [
      "enter a number:  12345\n"
     ]
    },
    {
     "name": "stdout",
     "output_type": "stream",
     "text": [
      "120\n"
     ]
    }
   ],
   "source": [
    "#find the product of digits in a given number using for loop\n",
    "num=input(\"enter a number: \")\n",
    "prod =1\n",
    "for i in num:\n",
    "    prod = prod*int(i)\n",
    "print(prod)"
   ]
  },
  {
   "cell_type": "code",
   "execution_count": 51,
   "id": "0bed4638-da2f-4076-bd0b-df5a3dbd0066",
   "metadata": {},
   "outputs": [
    {
     "name": "stdout",
     "output_type": "stream",
     "text": [
      "sum 625\n"
     ]
    }
   ],
   "source": [
    "#find the sum of all odd numbers between 1 and 50 using for loop \n",
    "s=0\n",
    "for i in range(1,50,2):\n",
    "    s=s+i\n",
    "print(\"sum\",s)"
   ]
  },
  {
   "cell_type": "code",
   "execution_count": 59,
   "id": "1187f206-33cc-4e58-9498-bf2f38226ad5",
   "metadata": {},
   "outputs": [
    {
     "name": "stdout",
     "output_type": "stream",
     "text": [
      "sum 600\n"
     ]
    }
   ],
   "source": [
    "#find the sum of all even numbers between 1 and 50 using for loop \n",
    "s=0\n",
    "for i in range(0,50,2):\n",
    "    s=s+i\n",
    "print(\"sum\",s)"
   ]
  },
  {
   "cell_type": "code",
   "execution_count": 57,
   "id": "084be5a8-25a3-462f-9da7-24189b21b5d9",
   "metadata": {},
   "outputs": [
    {
     "name": "stdout",
     "output_type": "stream",
     "text": [
      "sum 600\n"
     ]
    }
   ],
   "source": [
    "#find the sum of all even numbers between 1 and 50 using for loop \n",
    "s=0\n",
    "for i in range(1,50,):\n",
    "    if i%2==0:\n",
    "        s+=i\n",
    "print(\"sum\",s)"
   ]
  },
  {
   "cell_type": "code",
   "execution_count": 69,
   "id": "61920d65-0657-4f71-9704-472dc1e03e5c",
   "metadata": {},
   "outputs": [
    {
     "name": "stdin",
     "output_type": "stream",
     "text": [
      "enter the number 5\n"
     ]
    },
    {
     "name": "stdout",
     "output_type": "stream",
     "text": [
      "sum 10\n"
     ]
    }
   ],
   "source": [
    "#find the sum of n natural numbers \n",
    "n=int(input(\"enter the number\"))\n",
    "s=0\n",
    "for i in range(0,n):\n",
    "    s=s+i\n",
    "print(\"sum\",s)\n"
   ]
  },
  {
   "cell_type": "code",
   "execution_count": 71,
   "id": "1289724d-4677-47a4-9712-b01d04fc054c",
   "metadata": {},
   "outputs": [
    {
     "name": "stdin",
     "output_type": "stream",
     "text": [
      "enter the number 76542332542\n"
     ]
    },
    {
     "name": "stdout",
     "output_type": "stream",
     "text": [
      "24523324567\n"
     ]
    }
   ],
   "source": [
    "#program to reverse a number using while loop \n",
    "n=int(input(\"enter the number\"))\n",
    "rev=0\n",
    "while(n>0):\n",
    "    r=n%10\n",
    "    rev=rev*10+r\n",
    "    n=n//10\n",
    "print(rev)"
   ]
  },
  {
   "cell_type": "code",
   "execution_count": 85,
   "id": "23c1a1b0-8389-4823-959b-bc52b7904ea4",
   "metadata": {},
   "outputs": [
    {
     "name": "stdin",
     "output_type": "stream",
     "text": [
      "enter the number:  5\n"
     ]
    },
    {
     "name": "stdout",
     "output_type": "stream",
     "text": [
      "120\n"
     ]
    }
   ],
   "source": [
    "#write a python program to find the factorial of given number\n",
    "num=int(input(\"enter the number: \"))\n",
    "factorial=1\n",
    "\n",
    "for i in range(1,num+1):\n",
    "    factorial*=i\n",
    "    \n",
    "print(factorial)\n"
   ]
  },
  {
   "cell_type": "code",
   "execution_count": 95,
   "id": "066a78b4-e4bd-4363-8de1-172d30d30744",
   "metadata": {},
   "outputs": [
    {
     "name": "stdin",
     "output_type": "stream",
     "text": [
      "enter the number 10\n"
     ]
    },
    {
     "name": "stdout",
     "output_type": "stream",
     "text": [
      "1\n",
      "2\n",
      "3\n",
      "4\n",
      "5\n"
     ]
    }
   ],
   "source": [
    "#write a python program to compute list of factors of a number\n",
    "num=int(input(\"enter the number\"))\n",
    "for i in range(1,n+1):\n",
    "    if n%1 == 0:\n",
    "        print(i)"
   ]
  },
  {
   "cell_type": "code",
   "execution_count": 113,
   "id": "f808b376-148b-4c1f-8a33-a85c7b243520",
   "metadata": {},
   "outputs": [
    {
     "name": "stdin",
     "output_type": "stream",
     "text": [
      "enter a number:  12345\n"
     ]
    },
    {
     "name": "stdout",
     "output_type": "stream",
     "text": [
      "15\n"
     ]
    }
   ],
   "source": [
    "def sum_of_digits(n):\n",
    "    s = 0\n",
    "    while(n>0):\n",
    "        digit = n%10\n",
    "        s =  s+digit\n",
    "        n = n//10\n",
    "    return s\n",
    "n = int(input(\"enter a number: \"))\n",
    "print(sum_of_digits(n))\n",
    "\n"
   ]
  },
  {
   "cell_type": "code",
   "execution_count": 115,
   "id": "c3234340-4eb2-4887-afc2-2c12b902f114",
   "metadata": {},
   "outputs": [
    {
     "name": "stdin",
     "output_type": "stream",
     "text": [
      "enter the number:  8\n"
     ]
    },
    {
     "name": "stdout",
     "output_type": "stream",
     "text": [
      "[1, 2, 6, 24, 120, 720, 5040, 40320]\n"
     ]
    }
   ],
   "source": [
    "n=int(input(\"enter the number: \"))\n",
    "list=[]\n",
    "def ajay(n):\n",
    "    fact=1\n",
    "    for i in range (1,n+1):\n",
    "        fact*=i\n",
    "        list.append(fact)\n",
    "    return list\n",
    "print(ajay(n))"
   ]
  },
  {
   "cell_type": "code",
   "execution_count": 151,
   "id": "030c7c6f-a65b-4c85-b7d6-f4e26f4bb4a2",
   "metadata": {},
   "outputs": [
    {
     "name": "stdin",
     "output_type": "stream",
     "text": [
      "enter a number: 10\n"
     ]
    },
    {
     "name": "stdout",
     "output_type": "stream",
     "text": [
      "[1, 2, 3, 4, 5, 6, 7, 8, 9, 10]\n"
     ]
    }
   ],
   "source": [
    "def factors(n):\n",
    "    factorlist = []\n",
    "    for i in range(1,n+1):\n",
    "      if n%1 == 0:\n",
    "          factorlist.append(i)\n",
    "    return(factorlist)\n",
    "n = int(input(\"enter a number:\"))\n",
    "print(factors(n))"
   ]
  },
  {
   "cell_type": "code",
   "execution_count": 159,
   "id": "2ddd3681-0fdb-4a24-8f5a-8644b1c7f89c",
   "metadata": {},
   "outputs": [
    {
     "name": "stdin",
     "output_type": "stream",
     "text": [
      "enter a number: 2\n"
     ]
    },
    {
     "name": "stdout",
     "output_type": "stream",
     "text": [
      "True\n"
     ]
    }
   ],
   "source": [
    "def prime(n):\n",
    "  return(factors(n) == [1,n])\n",
    "n = int(input(\"enter a number:\"))\n",
    "print(prime(n))\n",
    "    "
   ]
  },
  {
   "cell_type": "code",
   "execution_count": null,
   "id": "0d7570ea-0a8c-4a8c-939a-d6bcdc9859e2",
   "metadata": {},
   "outputs": [],
   "source": [
    "#print the list of prime numbers upto 100\n"
   ]
  }
 ],
 "metadata": {
  "kernelspec": {
   "display_name": "Python [conda env:base] *",
   "language": "python",
   "name": "conda-base-py"
  },
  "language_info": {
   "codemirror_mode": {
    "name": "ipython",
    "version": 3
   },
   "file_extension": ".py",
   "mimetype": "text/x-python",
   "name": "python",
   "nbconvert_exporter": "python",
   "pygments_lexer": "ipython3",
   "version": "3.12.7"
  }
 },
 "nbformat": 4,
 "nbformat_minor": 5
}
